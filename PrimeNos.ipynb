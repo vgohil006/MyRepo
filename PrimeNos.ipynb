{
 "cells": [
  {
   "cell_type": "code",
   "execution_count": null,
   "metadata": {},
   "outputs": [],
   "source": [
    "# print prime numbers within a certain range\n",
    "\n",
    "print(\"The prime numbers in range are:\\n\")\n",
    "for num in range (1,101):\n",
    "    if num > 1:\n",
    "        for i in range (2, num):\n",
    "            if (num % i) == 0:\n",
    "                break\n",
    "        else:\n",
    "            print(num)"
   ]
  },
  {
   "cell_type": "code",
   "execution_count": null,
   "metadata": {},
   "outputs": [],
   "source": [
    "# Guessing a number within a certain range and checking to see whether it is a prime number\n",
    "\n",
    "number = int(input(\"Guess a number between 1 and 1000: \"))\n",
    "    \n",
    "if number > 1 and number <= 1000:\n",
    "    for i in range (2, number):\n",
    "        if (number % i) == 0:\n",
    "            print(number, \": The number is not a prime number\")\n",
    "            break\n",
    "    else:\n",
    "        print(number, \": THIS IS A PRIME NUMBER!!\")\n",
    "elif number > 1000:\n",
    "    print(\"The number is out of range\")\n"
   ]
  },
  {
   "cell_type": "code",
   "execution_count": null,
   "metadata": {},
   "outputs": [],
   "source": []
  },
  {
   "cell_type": "code",
   "execution_count": null,
   "metadata": {},
   "outputs": [],
   "source": []
  }
 ],
 "metadata": {
  "kernelspec": {
   "display_name": "Python 3",
   "language": "python",
   "name": "python3"
  },
  "language_info": {
   "codemirror_mode": {
    "name": "ipython",
    "version": 3
   },
   "file_extension": ".py",
   "mimetype": "text/x-python",
   "name": "python",
   "nbconvert_exporter": "python",
   "pygments_lexer": "ipython3",
   "version": "3.6.4"
  }
 },
 "nbformat": 4,
 "nbformat_minor": 2
}
