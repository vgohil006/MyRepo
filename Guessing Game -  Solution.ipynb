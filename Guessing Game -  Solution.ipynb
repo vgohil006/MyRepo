{
 "cells": [
  {
   "cell_type": "markdown",
   "metadata": {},
   "source": [
    "<img src=\"https://stepfunctioncoaching.co.uk/wp-content/uploads/2017/03/logo_default.png\" />"
   ]
  },
  {
   "cell_type": "code",
   "execution_count": 1,
   "metadata": {},
   "outputs": [
    {
     "name": "stdout",
     "output_type": "stream",
     "text": [
      "Guess my number between 1 and 10: 1\n",
      "1  is too low.\n",
      "Guess again: 3\n",
      "\n",
      "\n",
      "Great, you got it in 1 guesses!\n"
     ]
    }
   ],
   "source": [
    "import random                      # Import the random module \n",
    "\n",
    "number = random.randrange(1, 11) # Get random number between [1 and 10)\n",
    "guesses = 0\n",
    "guess = int(input(\"Guess my number between 1 and 10: \"))\n",
    "\n",
    "while guess != number:\n",
    "    guesses += 1\n",
    "    if guess > number:\n",
    "        print(guess, \"is too high.\") \n",
    "    elif guess < number:\n",
    "        print(guess, \" is too low.\")\n",
    "    guess = int(input(\"Guess again: \"))\n",
    "\n",
    "print(\"\\n\\nGreat, you got it in\", guesses,  \"guesses!\")"
   ]
  }
 ],
 "metadata": {
  "kernelspec": {
   "display_name": "Python 3",
   "language": "python",
   "name": "python3"
  },
  "language_info": {
   "codemirror_mode": {
    "name": "ipython",
    "version": 3
   },
   "file_extension": ".py",
   "mimetype": "text/x-python",
   "name": "python",
   "nbconvert_exporter": "python",
   "pygments_lexer": "ipython3",
   "version": "3.6.4"
  }
 },
 "nbformat": 4,
 "nbformat_minor": 2
}
