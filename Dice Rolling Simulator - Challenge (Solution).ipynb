{
 "cells": [
  {
   "cell_type": "markdown",
   "metadata": {},
   "source": [
    "<img src=\"https://stepfunctioncoaching.co.uk/wp-content/uploads/2017/03/logo_default.png\" />"
   ]
  },
  {
   "cell_type": "markdown",
   "metadata": {},
   "source": [
    "## Dice Rolling Simulator -  Challenge"
   ]
  },
  {
   "cell_type": "code",
   "execution_count": null,
   "metadata": {
    "collapsed": true
   },
   "outputs": [],
   "source": [
    "import random\n",
    "continue_game = True\n",
    "while continue_game:\n",
    "    roll_dice = input('Would you like to roll the dice? Answer with Y/N: ')\n",
    "    if roll_dice == 'Y':\n",
    "        number = random.randrange(1,7)\n",
    "        print('The number the dice landed on is {0}'.format(number))\n",
    "    elif roll_dice == 'N':\n",
    "        continue_game = False\n",
    "    else:\n",
    "        print('Only accepeted answer is Y/N')\n",
    "print('The fun stops :(')"
   ]
  },
  {
   "cell_type": "code",
   "execution_count": null,
   "metadata": {
    "collapsed": true
   },
   "outputs": [],
   "source": []
  },
  {
   "cell_type": "code",
   "execution_count": null,
   "metadata": {
    "collapsed": true
   },
   "outputs": [],
   "source": []
  }
 ],
 "metadata": {
  "kernelspec": {
   "display_name": "Python [default]",
   "language": "python",
   "name": "python3"
  },
  "language_info": {
   "codemirror_mode": {
    "name": "ipython",
    "version": 3
   },
   "file_extension": ".py",
   "mimetype": "text/x-python",
   "name": "python",
   "nbconvert_exporter": "python",
   "pygments_lexer": "ipython3",
   "version": "3.5.3"
  }
 },
 "nbformat": 4,
 "nbformat_minor": 2
}
